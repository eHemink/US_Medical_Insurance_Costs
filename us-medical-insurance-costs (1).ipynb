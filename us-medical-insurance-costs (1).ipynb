{
 "cells": [
  {
   "cell_type": "markdown",
   "metadata": {},
   "source": [
    "# U.S. Medical Insurance Costs"
   ]
  },
  {
   "cell_type": "markdown",
   "metadata": {},
   "source": [
    "### Project Goals\n",
    "\n",
    "In this project I chose to focus on how smoking status relates to other variables in the medical insurance dataset. \n",
    "\n",
    "The specific questions I will perform analysis for are: \n",
    "- Difference in average insurance cost between non-smokers and smokers\n",
    "- Percentage of smokers in each region\n",
    "- Proportion of smokers among individuals of different BMI levels\n",
    "- Proportion of non-smokers and smokers among individuals with one or more children, and among individuals without children"
   ]
  },
  {
   "cell_type": "markdown",
   "metadata": {},
   "source": [
    "### Importing the dataset and saving to python variables"
   ]
  },
  {
   "cell_type": "code",
   "execution_count": 2,
   "metadata": {},
   "outputs": [],
   "source": [
    "# Importing the insurance dataset\n",
    "import csv\n",
    "with open('insurance.csv') as insurance_data:\n",
    " insurance_data.read()\n"
   ]
  },
  {
   "cell_type": "code",
   "execution_count": 3,
   "metadata": {},
   "outputs": [],
   "source": [
    "# Saving the dataset to python variables\n",
    "age = []\n",
    "sex = []\n",
    "bmi = []\n",
    "children = []\n",
    "smoker = []\n",
    "region = []\n",
    "charges = []\n",
    "\n",
    "with open('insurance.csv') as insurance_data:\n",
    " insurance_dict = csv.DictReader(insurance_data, delimiter = ',')\n",
    " for item in insurance_dict:\n",
    "        age.append(item['age'])\n",
    "        sex.append(item['sex'])\n",
    "        bmi.append(item['bmi'])\n",
    "        children.append(item['children'])\n",
    "        smoker.append(item['smoker'])\n",
    "        region.append(item['region'])\n",
    "        charges.append(item['charges'])\n",
    "        \n",
    "def create_table(age, sex, bmi, children, smoker, region, charges):\n",
    "    new_dictionary = {}\n",
    "    for i in range(len(age)):\n",
    "        new_dictionary[i] = {'age': age[i],\n",
    "                               'sex': sex[i],\n",
    "                               'bmi': float(bmi[i]),\n",
    "                               'children': int(children[i]),\n",
    "                               'smoker': smoker[i],\n",
    "                               'region': region[i],\n",
    "                               'charges': charges[i]}\n",
    "    return new_dictionary\n",
    "\n",
    "insurance_dictionary = create_table(age, sex, bmi, children, smoker, region, charges)\n",
    "#print(insurance_dictionary) \n"
   ]
  },
  {
   "cell_type": "markdown",
   "metadata": {},
   "source": [
    "### Analysis "
   ]
  },
  {
   "cell_type": "code",
   "execution_count": 4,
   "metadata": {},
   "outputs": [
    {
     "name": "stdout",
     "output_type": "stream",
     "text": [
      "The average insurance cost for non-smokers is 8434.27 dollars.\n",
      "The average insurance cost for smokers is 32050.23 dollars.\n",
      "The difference in average insurance costs between non-smokers and smokers is 23615.96 dollars.\n"
     ]
    }
   ],
   "source": [
    "# Finding the difference in average insurance cost between non-smokers and smokers\n",
    "\n",
    "# Begin by finding the number of non-smokers and smokers in the dataset, and the sum of the insurance costs respectively\n",
    "non_smokers_sum = 0\n",
    "non_smokers_len = 0\n",
    "for i in insurance_dictionary:\n",
    "    if smoker[i] == 'no':\n",
    "        non_smokers_sum += float(charges[i])\n",
    "        non_smokers_len += 1\n",
    "\n",
    "smokers_sum = 0\n",
    "smokers_len = 0\n",
    "for i in insurance_dictionary:\n",
    "    if smoker[i] == 'yes':\n",
    "        smokers_sum += float(charges[i])\n",
    "        smokers_len += 1\n",
    "\n",
    "# Use the sums and number of individuals above to find the averages and the difference\n",
    "\n",
    "non_smokers_average = round(non_smokers_sum / non_smokers_len, 2)\n",
    "print(\"The average insurance cost for non-smokers is \" + str(non_smokers_average)+ \" dollars.\")\n",
    "smokers_average = round(smokers_sum / smokers_len, 2)\n",
    "print(\"The average insurance cost for smokers is \" + str(smokers_average)+ \" dollars.\")\n",
    "diff_average = abs(non_smokers_average - smokers_average)\n",
    "print(\"The difference in average insurance costs between non-smokers and smokers is \" + str(diff_average) + \" dollars.\")\n"
   ]
  },
  {
   "cell_type": "code",
   "execution_count": 6,
   "metadata": {},
   "outputs": [
    {
     "name": "stdout",
     "output_type": "stream",
     "text": [
      "In the Southwest region, 17.85 percent of recorded individuals are smokers.\n",
      "In the Southeast region, 25.0 percent of recorded individuals are smokers.\n",
      "In the Northwest region, 17.85 percent of recorded individuals are smokers.\n",
      "In the Northeast region, 20.68 percent of recorded individuals are smokers.\n"
     ]
    }
   ],
   "source": [
    "# Finding the proportion of smokers in each region\n",
    "\n",
    "# Find the unique regions included in this dataset \n",
    "included_regions = []\n",
    "for x in region:\n",
    "    if x not in included_regions:\n",
    "        included_regions.append(x)\n",
    "#print(included_regions)\n",
    "#output: southwest, southeast, northwest, northeast\n",
    "\n",
    "prop_smokers_southwest = round((sum(1 for i in insurance_dictionary if region[i]=='southwest' and smoker[i]=='yes')/region.count('southwest'))*100, 2)\n",
    "prop_smokers_southeast = round((sum(1 for i in insurance_dictionary if region[i]=='southeast' and smoker[i]=='yes')/region.count('southeast'))*100, 2)\n",
    "prop_smokers_northwest = round((sum(1 for i in insurance_dictionary if region[i]=='northwest' and smoker[i]=='yes')/region.count('northwest'))*100, 2)\n",
    "prop_smokers_northeast = round((sum(1 for i in insurance_dictionary if region[i]=='northeast' and smoker[i]=='yes')/region.count('northeast'))*100, 2)\n",
    "\n",
    "print(\"In the Southwest region, \" + str(prop_smokers_southwest) + \" percent of recorded individuals are smokers.\")\n",
    "print(\"In the Southeast region, \" + str(prop_smokers_southeast) + \" percent of recorded individuals are smokers.\")\n",
    "print(\"In the Northwest region, \" + str(prop_smokers_northwest) + \" percent of recorded individuals are smokers.\")\n",
    "print(\"In the Northeast region, \" + str(prop_smokers_northeast) + \" percent of recorded individuals are smokers.\")"
   ]
  },
  {
   "cell_type": "code",
   "execution_count": 35,
   "metadata": {},
   "outputs": [
    {
     "name": "stdout",
     "output_type": "stream",
     "text": [
      "Of individuals with a BMI between 15.0 and 25.0, 22.27 percent are smokers.\n",
      "Of individuals with a BMI between 25.0 and 35.0, 19.1 percent are smokers.\n",
      "Of individuals with a BMI between 35.0 and 45.0, 22.3 percent are smokers.\n",
      "Of individuals with a BMI between 45.0 and 55.0, 25.0 percent are smokers.\n"
     ]
    }
   ],
   "source": [
    "# Finding if there is a correlation between smoking and BMI\n",
    "#print(min(bmi)) output: 15.96\n",
    "#print(max(bmi)) output: 53.13\n",
    "\n",
    "# sort by bmi \n",
    "def sortby_bmi(insurance_dictionary):\n",
    "    bmi_scale = {0:15.0, 1:25.0, 2:35.0, 3:45.0, 4:55.0}\n",
    "    individuals_by_bmi = {0:[], 1:[], 2:[], 3:[], 4:[]}\n",
    "    for i in insurance_dictionary:\n",
    "        if insurance_dictionary[i]['bmi'] == bmi_scale[0]:\n",
    "            individuals_by_bmi[0].append(insurance_dictionary[i])\n",
    "        elif insurance_dictionary[i]['bmi'] <= bmi_scale[1] and insurance_dictionary[i]['bmi'] > bmi_scale[0]:\n",
    "            individuals_by_bmi[1].append(insurance_dictionary[i])\n",
    "        elif insurance_dictionary[i]['bmi'] <= bmi_scale[2] and insurance_dictionary[i]['bmi'] > bmi_scale[1]:\n",
    "            individuals_by_bmi[2].append(insurance_dictionary[i])\n",
    "        elif insurance_dictionary[i]['bmi'] <= bmi_scale[3] and insurance_dictionary[i]['bmi'] > bmi_scale[2]:\n",
    "            individuals_by_bmi[3].append(insurance_dictionary[i])\n",
    "        elif insurance_dictionary[i]['bmi'] < bmi_scale[4] and insurance_dictionary[i]['bmi'] > bmi_scale[3]:\n",
    "            individuals_by_bmi[4].append(insurance_dictionary[i])\n",
    "    return individuals_by_bmi \n",
    "sorted_by_bmi = sortby_bmi(insurance_dictionary)\n",
    "#print(sorted_by_bmi)\n",
    "\n",
    "# Find percentage of smokers in each bin of the bmi scale\n",
    "\n",
    "prop_smokers_bmi1 = round((sum(1 for i in sorted_by_bmi[1] if i['smoker']=='yes')/len(sorted_by_bmi[1]))*100, 2)\n",
    "print(\"Of individuals with a BMI between 15.0 and 25.0, \" + str(prop_smokers_bmi1) + \" percent are smokers.\")\n",
    "\n",
    "prop_smokers_bmi2 = round((sum(1 for i in sorted_by_bmi[2] if i['smoker']=='yes')/len(sorted_by_bmi[2]))*100, 2)\n",
    "print(\"Of individuals with a BMI between 25.0 and 35.0, \" + str(prop_smokers_bmi2) + \" percent are smokers.\")\n",
    "\n",
    "prop_smokers_bmi3 = round((sum(1 for i in sorted_by_bmi[3] if i['smoker']=='yes')/len(sorted_by_bmi[3]))*100, 2)\n",
    "print(\"Of individuals with a BMI between 35.0 and 45.0, \" + str(prop_smokers_bmi3) + \" percent are smokers.\")\n",
    "\n",
    "prop_smokers_bmi4 = round((sum(1 for i in sorted_by_bmi[4] if i['smoker']=='yes')/len(sorted_by_bmi[4]))*100, 2)\n",
    "print(\"Of individuals with a BMI between 45.0 and 55.0, \" + str(prop_smokers_bmi4) + \" percent are smokers.\")\n"
   ]
  },
  {
   "cell_type": "code",
   "execution_count": 53,
   "metadata": {},
   "outputs": [
    {
     "name": "stdout",
     "output_type": "stream",
     "text": [
      "Among individuals with 1 or more children, 20.81 percent are smokers.\n",
      "Among individuals with no children, 20.03 percent are smokers.\n"
     ]
    }
   ],
   "source": [
    "# Finding the proportion of smokers among individuals with children and without children\n",
    "def sortby_children(insurance_dictionary):\n",
    "    new_dict = {'parent': [], 'childless':[]}\n",
    "    for i in insurance_dictionary:\n",
    "        if insurance_dictionary[i]['children'] >= 1:\n",
    "            new_dict['parent'].append(insurance_dictionary[i])\n",
    "        elif insurance_dictionary[i]['children'] == 0:\n",
    "            new_dict['childless'].append(insurance_dictionary[i])\n",
    "    return new_dict\n",
    "sorted_by_children = sortby_children(insurance_dictionary)\n",
    "#print(sorted_by_children)\n",
    "\n",
    "prop_smokers_parent = round((sum(1 for i in sorted_by_children['parent'] if i['smoker']=='yes')/len(sorted_by_children['parent']))*100, 2)\n",
    "print(\"Among individuals with 1 or more children, \" + str(prop_smokers_parent) + \" percent are smokers.\")\n",
    "\n",
    "prop_smokers_childless = round((sum(1 for i in sorted_by_children['childless'] if i['smoker']=='yes')/len(sorted_by_children['childless']))*100, 2)\n",
    "print(\"Among individuals with no children, \" + str(prop_smokers_childless) + \" percent are smokers.\")\n",
    "\n"
   ]
  },
  {
   "cell_type": "markdown",
   "metadata": {},
   "source": [
    "### Results\n",
    "\n",
    "The findings from the analysis performed in this project are as follows:\n",
    "\n",
    "- Insurance costs for people who smoke are significantly higher than the costs of those who don't smoke. The difference in average insurance costs between non-smokers and smokers is 23615.96 dollars.\n",
    "- The proportion of smokers to non-smokers varies by region. The Northwest and Southwest have the smallest proportion of smokers, both at 17.85%. The Southeast has the highest proportion of smokers at 25%. The proportion of smokers in the Northeast is 20.68%.\n",
    "- Smoking status and BMI don't provide information about each other. However, the highest bin of the BMI scale (which includes individuals with a BMI between 45.0 and 55.0) has the highest proportion of smokers, at 25%. The percentage of smokers in the other three bins varies between 19.1% and 22.3%.\n",
    "- About one-fifth of individuals in this dataset, regardless of whether they have children, are smokers. Thus, smoking status and whether one has children don't provide information about each other. "
   ]
  },
  {
   "cell_type": "code",
   "execution_count": null,
   "metadata": {},
   "outputs": [],
   "source": []
  }
 ],
 "metadata": {
  "kernelspec": {
   "display_name": "Python 3 (ipykernel)",
   "language": "python",
   "name": "python3"
  },
  "language_info": {
   "codemirror_mode": {
    "name": "ipython",
    "version": 3
   },
   "file_extension": ".py",
   "mimetype": "text/x-python",
   "name": "python",
   "nbconvert_exporter": "python",
   "pygments_lexer": "ipython3",
   "version": "3.11.4"
  }
 },
 "nbformat": 4,
 "nbformat_minor": 4
}
